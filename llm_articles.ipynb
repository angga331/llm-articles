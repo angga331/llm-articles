{
  "nbformat": 4,
  "nbformat_minor": 0,
  "metadata": {
    "colab": {
      "provenance": []
    },
    "kernelspec": {
      "name": "python3",
      "display_name": "Python 3"
    },
    "language_info": {
      "name": "python"
    }
  },
  "cells": [
    {
      "cell_type": "markdown",
      "source": [
        "#ORION TEAM (16B)\n",
        "\n",
        "NAMA ANGGOTA\n",
        "1. Wahyu Rahmadani (SC61611)\n",
        "2. Hildha Meutia K (SC61614)\n",
        "3. Rafasya Azizah Ghassani (SC61617)\n",
        "4. Tri Ayunia Patma Lubis (SC61618)\n",
        "5. Berlian Angga Kusuma (SC61620)\n",
        "6. M Rendy Apriansyah (SC61622)"
      ],
      "metadata": {
        "id": "iMBKmcMh0Bmd"
      }
    },
    {
      "cell_type": "code",
      "execution_count": null,
      "metadata": {
        "id": "zU8XGKV5SGoS"
      },
      "outputs": [],
      "source": [
        "import numpy as np\n",
        "import requests\n",
        "from bs4 import BeautifulSoup\n",
        "import re\n",
        "import nltk\n",
        "from nltk.corpus import stopwords, words, wordnet\n",
        "from nltk.tokenize import word_tokenize\n",
        "from nltk.stem import WordNetLemmatizer\n",
        "import string\n",
        "from sklearn.feature_extraction.text import CountVectorizer\n",
        "from sklearn.naive_bayes import MultinomialNB"
      ]
    },
    {
      "cell_type": "markdown",
      "source": [
        "Ada beberapa libraries yang kami pakai disini, scikit-learn, string, natural language toolkit, dan bs4 untuk scrap artikel via internet."
      ],
      "metadata": {
        "id": "TFkSJ5tgy2vP"
      }
    },
    {
      "cell_type": "code",
      "source": [
        "nltk.download('punkt')\n",
        "nltk.download('stopwords')\n",
        "nltk.download('wordnet')\n",
        "nltk.download('words')"
      ],
      "metadata": {
        "colab": {
          "base_uri": "https://localhost:8080/"
        },
        "id": "AAV-nA1TtWLI",
        "outputId": "b336ee59-628d-44d8-8437-a0c0b3d7e427"
      },
      "execution_count": null,
      "outputs": [
        {
          "output_type": "stream",
          "name": "stderr",
          "text": [
            "[nltk_data] Downloading package punkt to /root/nltk_data...\n",
            "[nltk_data]   Package punkt is already up-to-date!\n",
            "[nltk_data] Downloading package stopwords to /root/nltk_data...\n",
            "[nltk_data]   Package stopwords is already up-to-date!\n",
            "[nltk_data] Downloading package wordnet to /root/nltk_data...\n",
            "[nltk_data]   Package wordnet is already up-to-date!\n",
            "[nltk_data] Downloading package words to /root/nltk_data...\n",
            "[nltk_data]   Package words is already up-to-date!\n"
          ]
        },
        {
          "output_type": "execute_result",
          "data": {
            "text/plain": [
              "True"
            ]
          },
          "metadata": {},
          "execution_count": 2
        }
      ]
    },
    {
      "cell_type": "markdown",
      "source": [
        "Disini kami juga mendownload beberapa package yang kami rasa diperlukan."
      ],
      "metadata": {
        "id": "rg5ik772zN03"
      }
    },
    {
      "cell_type": "code",
      "source": [
        "def scrape(url):\n",
        "  response = requests.get(url)\n",
        "  soup = BeautifulSoup(response.content, 'html.parser')\n",
        "  articles = []\n",
        "  for article in soup.find_all('article'):\n",
        "    text = article.get_text(separator=' ')\n",
        "    articles.append(text)\n",
        "  return articles"
      ],
      "metadata": {
        "id": "icROYJbdSxX4"
      },
      "execution_count": null,
      "outputs": []
    },
    {
      "cell_type": "markdown",
      "source": [
        "Diatas adalah fungsi untuk scrape data via url, memanfaatkan bs4 kita dapat secara otomatis mengambil data dari internet, selama situs yang dijadikan target berupa open-sources, maka tidak akan masalah.\n",
        "\n",
        "Terkecuali website target memiliki privacy dan keamanan yang ketat."
      ],
      "metadata": {
        "id": "mPQd7mjpzS-D"
      }
    },
    {
      "cell_type": "code",
      "source": [
        "health_articles = scrape('https://www.who.int/news/item/26-04-2024-statement-on-the-antigen-composition-of-covid-19-vaccines')\n",
        "\n",
        "sports_articles = scrape('https://economictimes.indiatimes.com/news/sports/ipl-2024-dc-vs-mi-pitch-arun-jaitley-stadium-playing-11-head-to-head-delhi-captials-mumbai-indians-dream-11-prediction-key-players-head-dc-vs-mi-today-match/articleshow/109640011.cms')\n",
        "\n",
        "finance_articles = scrape('https://economictimes.indiatimes.com/markets/cryptocurrency/how-does-bitcoin-halving-impact-the-bitcoin-price/articleshow/109410406.cms')"
      ],
      "metadata": {
        "id": "vuRqo98ZS61P"
      },
      "execution_count": null,
      "outputs": []
    },
    {
      "cell_type": "markdown",
      "source": [
        "Ada beberapa artikel yang kami ambil untuk dijadikan fondasi dataset, yaitu artikel terkait kesehatan, olahraga dan keuangan."
      ],
      "metadata": {
        "id": "dvtZgT1xzkQG"
      }
    },
    {
      "cell_type": "code",
      "source": [
        "print(\"Health Article:\")\n",
        "print(health_articles[0] if health_articles else \"Data tidak ada.\")\n",
        "\n",
        "print(\"\\nSports Article:\")\n",
        "print(sports_articles[0] if sports_articles else \"Data tidak ada.\")\n",
        "\n",
        "print(\"\\nFinance Article:\")\n",
        "print(finance_articles[0] if finance_articles else \"Data tidak ada.\")"
      ],
      "metadata": {
        "colab": {
          "base_uri": "https://localhost:8080/"
        },
        "id": "DAnplMT9VLyI",
        "outputId": "286ab12e-f799-4721-a02e-917aa5886dd6"
      },
      "execution_count": null,
      "outputs": [
        {
          "output_type": "stream",
          "name": "stdout",
          "text": [
            "Health Article:\n",
            "\n",
            " Key points SARS-CoV-2 continues to circulate and evolve with important genetic and antigenic evolution of the spike protein. The objective of an update to COVID-19 vaccine antigen composition is to enhance vaccine-induced immune responses to circulating SARS-CoV-2 variants. As the virus is expected to continue to evolve from JN.1, the TAG-CO-VAC advises the use of a  monovalent JN.1 lineage  as the antigen in future formulations of COVID-19 vaccines. In accordance with WHO SAGE policy, vaccination programmes should continue to use any of the WHO emergency-use listed or prequalified COVID-19 vaccines and vaccination should not be delayed in anticipation of access to vaccines with an updated composition. The WHO  Technical Advisory Group on COVID-19 Vaccine Composition   (TAG-CO-VAC) meets regularly to assess the impact of SARS-CoV-2 evolution on the performance of approved COVID-19 vaccines. This includes meeting in person approximately every six months to determine the implications of SARS-CoV-2 evolution on COVID-19 vaccine antigen composition and to advise WHO on whether changes are needed to the antigen composition of future COVID-19 vaccines. The twice-yearly evidence review by the TAG-CO-VAC is based on the need for continued monitoring of the evolution of SARS-CoV-2 and the kinetics and protection of vaccine-derived immunity.  In May 2023, the TAG-CO-VAC recommended the use of a  monovalent XBB.1 descendent lineage, such as XBB.1.5 , as the vaccine antigen. In December 2023, the TAG-CO-VAC advised retaining the use of a  monovalent XBB.1 descendent lineage, such as XBB.1.5 , as the vaccine antigen. Several manufacturers (using mRNA, protein-based and viral vector vaccine platforms) have developed COVID-19 vaccines with a monovalent XBB.1.5 formulation which have been approved for use by regulatory authorities and introduced into COVID-19 vaccination programmes in some countries. Previous statements from the TAG-CO-VAC can be found on the  WHO website . The TAG-CO-VAC reconvened on 15-16 April 2024 to review the genetic and antigenic evolution of SARS-CoV-2; immune responses to SARS-CoV-2 infection and/or COVID-19 vaccination; the performance of currently approved vaccines against circulating SARS-CoV-2 variants; and the implications for COVID-19 vaccine antigen composition. Evidence reviewed The published and unpublished evidence reviewed by the TAG-CO-VAC included: (1) SARS-CoV-2 genetic evolution with support from the WHO  Technical Advisory Group on SARS-CoV-2 Virus Evolution  (TAG-VE); (2) Antigenic characterization of previous and emerging SARS-CoV-2 variants using virus neutralization tests with animal antisera or human sera and further analysis of antigenic relationships using antigenic cartography; (3) Immunogenicity data on the breadth of neutralizing antibody responses elicited by currently approved vaccine antigens against circulating SARS-CoV-2 variants using animal and human sera, including modelling data; (4) Vaccine effectiveness estimates (VE) of currently approved vaccines during periods of circulation of XBB.1 and JN.1 lineages; (5) Preliminary immunogenicity data on immune responses following infection with circulating SARS-CoV-2 variants; and (6) Preliminary preclinical and clinical immunogenicity data on the performance of candidate vaccines with updated antigens shared confidentially by vaccine manufacturers with TAG-CO-VAC. Further details on the publicly available data reviewed by the TAG-CO-VAC can be found in the accompanying data annex. Unpublished and/or confidential data reviewed by the TAG-CO-VAC are not shown. Summary of available evidence SARS-CoV-2 continues to circulate and evolve; there are genetic changes in important regions of the spike protein of SARS-CoV-2. As of April 2024, nearly all (>94%) SARS-CoV-2 genetic sequences in publicly available databases are derived from JN.1, and these variants continue to displace existing XBB lineage variants (e.g. EG.5). This displacement indicates greater fitness of JN.1 derived variants as compared to other circulating SARS-CoV-2 variants in the human population.  Several JN.1 derived variants (e.g. JN.13.1, JN.1.11.1, KP.2) have independently evolved changes in the spike protein at epitopes involving amino acid residues 346 and/or 456. Substitutions at these amino acid residues have been identified in previous SARS-CoV-2 variants (e.g. R346T in BQ.1 and XBB; F456L in EG.5 and HK.3) and are within epitopes known to be targeted by neutralizing antibodies.  Given the displacement of XBB lineage variants by JN.1 derived variants, it is likely that, in the near-term, circulating SARS-CoV-2 variants will be derived from JN.1. In immunologically naïve animal and human sera, XBB.1.5 and JN.1 are antigenically distinct SARS-CoV-2 variants. In non-naïve animals and humans, post-monovalent XBB.1.5 vaccination sera, with or without recent prior infection, neutralize XBB.1.5 and its derivatives including EG.5, HK.3, HV.1, as well as BA.2.86 and JN.1. However, neutralization titres against JN.1 in published and unpublished studies were typically lower (2-5-fold) than those against the homologous XBB.1.5 immunizing antigen. There are further reductions in cross neutralization of JN.1 variants with F456L and/or R346T substitutions. Secondary analysis of published immunogenicity data demonstrates that an additional vaccine dose with an updated vaccine antigen results in an average 40% increase in neutralizing antibodies to that variant as compared to vaccines with a previous vaccine antigen. Using statistical modeling, the predicted additional effectiveness of a vaccine dose with an updated vaccine antigen may be approximately 23-33% against severe disease as compared to a previous vaccine antigen and 11-25% against symptomatic disease. In a context of high infection- and vaccine-derived immunity in the population, contemporary vaccine effectiveness (VE) estimates are mostly relative (rVE), rather than absolute (comparing vaccinated to unvaccinated individuals), and demonstrate the added protection of recent vaccination over and above pre-existing infection- and vaccine-derived immunity: Bivalent (index virus and BA.1- or BA.4/5) mRNA vaccines and a Beta-based protein vaccine continue to offer protection against severe disease during periods of XBB descendent lineage circulation. Protection against symptomatic disease and infection is lower and wanes more rapidly over several months.  Monovalent XBB.1.5 vaccines were introduced into some vaccination programmes in the last quarter of 2023. Protection against severe disease during periods of XBB descendent lineage circulation is high during the first three months after vaccination, but protection against symptomatic disease is lower.  There are fewer studies estimating rVE for the monovalent XBB.1.5 vaccines during periods of JN.1 descendent lineage circulation. These initial studies show some additional protection offered during the first three months after vaccination, but point towards a slight reduction in VE against JN.1, as compared to XBB.1 lineage variants, for protection against severe and symptomatic disease. These observations are consistent with reductions in neutralizing antibody titres observed in preclinical and clinical immunogenicity studies of monovalent XBB.1.5 vaccinee sera against JN.1 derived variants. Preclinical data shared confidentially with the TAG-CO-VAC by vaccine manufacturers show that immunization of naïve mice, as well as mice previously immunized with SARS-CoV-2 variants, with monovalent JN.1-containing vaccine candidates elicits higher neutralizing antibody responses to JN.1 and its emerging descendent variants, as compared to responses elicited by currently approved vaccines. A single immunogenicity study in humans of a monovalent JN.1-containing vaccine candidate suggests that a JN.1 vaccine antigen is likely to produce higher neutralising antibodies to co-circulating JN.1 variants (e.g., KP.2) than an XBB.1.5 or related vaccine antigen. The TAG-CO-VAC acknowledges several limitations of the available data:  There are persistent and increasing gaps in genetic/genomic surveillance of SARS-CoV-2 globally, including low numbers of samples sequenced and limited geographic diversity. The TAG-CO-VAC strongly supports the establishment of the WHO  Coronavirus Network  (CoViNet) to help address this information gap. The trajectory of further SARS-CoV-2 evolution indicates that JN.1 will likely be the progenitor of SARS-CoV-2 variants, in the near term. However, the timing, specific mutations and antigenic characteristics, and the potential public health impact of newly emerged (e.g. KP.2) and future variants remain unknown. The TAG-CO-VAC strongly supports the ongoing work of the TAG-VE.  Although neutralizing antibody titres have been shown to be important correlates of protection from SARS-CoV-2 infection and of estimates of vaccine effectiveness, there are multiple components of immune protection elicited by infection and/or vaccination. Data on the immune responses following XBB or JN.1 descendent lineage infection or XBB.1.5 vaccination are largely restricted to neutralizing antibodies and data on other aspects of the immune response, including cellular immunity, are limited.  Immunogenicity data against currently circulating SARS-CoV-2 variants are not available for all COVID-19 vaccines.  Estimates of rVE against recently circulating SARS-CoV-2 variants, including XBB or JN.1 descendent lineages, are limited in terms of the number of studies, geographic diversity, vaccine platforms evaluated, populations assessed, duration of follow-up and comparative estimates for monovalent XBB.1.5 vaccines versus other formulations delivered during the same time period.  Recommendations for COVID-19 vaccine antigen composition As of April 2024, nearly all circulating SARS-CoV-2 variants reported in publicly available databases are JN.1 derived variants. As virus evolution is expected to continue from JN.1, future formulations of COVID-19 vaccines should aim to induce enhanced neutralizing antibody responses to JN.1 and its descendent lineages. One approach recommended by TAG-CO-VAC is the use of a  monovalent JN.1 lineage  (GenBank: OY817255.1, GISAID: EPI_ISL_18538117, WHO Biohub: 2024-WHO-LS-001) antigen in vaccines. The continued use of the current monovalent XBB.1.5 formulation will offer protection given the neutralizing antibody responses to early JN.1 descendent lineages, and the evidence from early rVE studies against JN.1. However, it is expected that the ability for XBB.1.5 vaccination to protect against symptomatic disease may be less robust as SARS-CoV-2 evolution continues from JN.1. Other formulations and/or platforms that achieve robust neutralizing antibody responses against currently circulating variants, particularly JN.1 descendent lineages, can also be considered. In accordance with  WHO SAGE policy , vaccination programmes should continue to use any of the WHO emergency-use listed or prequalified COVID-19 vaccines and vaccination should not be delayed in anticipation of access to vaccines with an updated composition. WHO stresses the importance of access to and equity in the use of all available COVID-19 vaccines. Further data requirements and considerations   Given the limitations of the evidence upon which the recommendations above are derived and the anticipated continued evolution of the virus, the TAG-CO-VAC strongly encourages generation of data on immune responses and clinical endpoints (i.e. VE) on the performance of all currently approved COVID-19 vaccines against emerging SARS-CoV-2 variants, and candidate vaccines with an updated antigen over time. As previously stated, the TAG-CO-VAC continues to encourage the further development of vaccines that may improve protection against infection and reduce transmission of SARS-CoV-2.  \n",
            "\n",
            "\n",
            "Sports Article:\n",
            "Mumbai Indians vs Delhi Capitals (BCCI Photo) Delhi Capitals (DC) are all set to play against Mumbai Indians in an IPL match on Saturday. Despite their inconsistent performances this season, four wins so far have propelled DC to the sixth spot on the points table. A victory over MI would improve their likelihood of securing a spot in the playoffs. Mumbai Indians started the season poorly but managed to turn things around with three wins out of their eight matches so far. MI, however, would have high hopes for today's match as it's three wins came in the last four matches. The would be hopeing to keep that momentum going. Currently, Mumbai Indians are in eighth place and cannot afford any further losses. Rishabh Pant has been performing exceptionally well for DC, showing improvement in each game. His excellent wicket-keeping abilities and bold batting have played a key role in the team's achievements. Pant's recent unbeaten match-winning performance against Gujarat Titans displayed his aggressive approach, which has strengthened his chances of securing a place in India's T20 World Cup squad. DC has discovered a skilled top-order batsman in Jake Fraser-McGurk, however, they anticipate a better performance from opener Prithvi Shaw. David Warner, who was absent in the last match, may come back to the playing eleven. Tristan Stubbs and Axar Patel have also shown their skills in batting. The spin duo of Kuldeep Yadav and Axar has been economical. However, DC's fast bowling unit requires improvement, especially with Anrich Nortje having a forgettable season and other pacers being plagued by injuries. The resurgence of MI this season started with a victory against DC, and they aim to replicate that performance in this important match. Rohit Sharma, Suryakumar Yadav, and Tilak Varma have been scoring runs but they need to maintain consistency. Tim David, Ishan Kishan, and captain Hardik Pandya need to make significant contributions to relieve the pressure on the top three. MI's batting has displayed moments of excellence, but their bowling continues to be a significant worry. Jasprit Bumrah has stood out as the top bowler, spearheading the attack with 13 wickets at a commendable economy rate. Gerald Coetzee, the new addition, has shown inconsistency. Apart from these two seamers, Mumbai's bowling performance has been disappointing. Teams The Delhi Capitals team includes players such as Rishabh Pant (captain), David Warner, Abishek Porel, Ricky Bhui, Yash Dhull, Shai Hope, Prithvi Shaw, Tristan Stubbs, Kumar Kushagra, Swastik Chikara, Ishant Sharma, Jhye Richardson, Rasikh Dar Salam, Vicky Ostwal, Anrich Nortje, Mukesh Kumar, Kuldeep Yadav, Praveen Dubey, Khaleel Ahmed, Sumit Kumar, Axar Patel, Gulbadin Naib, Lalit Yadav, and Jake Fraser-McGurk. Mumbai Indians team includes Hardik Pandya as captain, along with players like Rohit Sharma, Suryakumar Yadav, Dewald Brevis, Jasprit Bumrah, Piyush Chawla, Gerald Coetzee, Tim David, Shreyas Gopal, Ishan Kishan as wicketkeeper, Anshul Kamboj, Kumar Kartikeya, Akash Madhwal, Kwena Maphaka, Mohammad Nabi, Shams Mulani, Naman Dhir, Shivalik Sharma, Romario Shepherd, Arjun Tendulkar, Nuwan Thushara, Tilak Varma, Harvik Desai, Nehal Wadhera, and Luke Wood. DC v MI head-to-head 34 Delhi Capitals: 15 Mumbai Indians: 19 DC v MI match time: The match starts at 3:30 PM IST (10:00 AM GMT) with the toss taking place half an hour before the match i.e., 3:00 PM (9:30 AM GMT) DC v MI match venue: Arun Jaitley Stadium, New Delhi Live broadcast of DC v MI match on television in India: The DC v MI match will be broadcast live via Star Sports Network. Live stream in India: The live streaming of DC v MI will be available on JioCinema. (You can now subscribe to our  Economic Times WhatsApp channel ) Read More News on dc vs mi dc vs mi pitch arun jaitley stadium pitch dc vs mi dream 11 dc vs mi playing 11 dc vs mi ipl 2024 ipl 2024 delhi captials vs mumbai indians today ipl match (Catch all the  Business News ,  Breaking News ,  Budget 2024 News ,  Budget 2024 Live Coverage , Events and  Latest News  Updates on  The Economic Times .) Download  The Economic Times News App  to get Daily Market Updates & Live Business News.   Subscribe to  The Economic Times Prime  and read the  ET ePaper  online. ... more less (You can now subscribe to our  Economic Times WhatsApp channel ) Read More News on dc vs mi dc vs mi pitch arun jaitley stadium pitch dc vs mi dream 11 dc vs mi playing 11 dc vs mi ipl 2024 ipl 2024 delhi captials vs mumbai indians today ipl match (Catch all the  Business News ,  Breaking News ,  Budget 2024 News ,  Budget 2024 Live Coverage , Events and  Latest News  Updates on  The Economic Times .) Download  The Economic Times News App  to get Daily Market Updates & Live Business News.   Subscribe to  The Economic Times Prime  and read the  ET ePaper  online. ... more less Prime Exclusives Investment Ideas Stock Report Plus ePaper Wealth Edition This app is striking at the core of Uber, Ola business model and succeeding. Ok, Tata, bye: Six things that can treat India’s EV range-anxiety. A 1 pm mail, two top exits: Is IndiGo heading for a deep restructuring? Zepto CEO Aadit Palicha doesn’t run the quick-commerce app. Then who does? Trucks taking trains! This is how Amul milk is reaching you faster, cheaper This summer look beyond AC stocks: 4 stocks from consumer electrical space with upside potential of up to 34% 1 2 3 View all Stories\n",
            "\n",
            "Finance Article:\n",
            "Jithin Mohandas Research Analyst, Mudrex ‘Total circulation will be 21,000,000 coins. It’ll be distributed to network nodes when they make blocks, with the amount cut in half every 4 years. first 4 years: 10,500,000 coins next 4 years: 5,250,000 coins next 4 years: 2,625,000 coins next 4 years: 1,312,500 coins etc…’—Satoshi Nakamoto Every four years, the Bitcoin network undergoes a significant change known as \" halving \", a process that reduces the rewards for mining new blocks by half. This mechanism is built into Bitcoin’s protocol to control inflation and cap the total supply at 21 million coins. Halving events, therefore, are pivotal, highly anticipated occasions within the  cryptocurrency community , often triggering speculation and  market volatility . The \"stock-to-flow\" ratio is a key concept used to measure the current supply of a commodity against the rate of new supply entering the market. For Bitcoin, each halving event markedly increases this ratio, underscoring its growing scarcity. This ratio is widely considered a crucial indicator of Bitcoin’s long-term valuation. Crypto Tracker TOP COIN SETS NFT & Metaverse Tracker 2.24%\n",
            "                         Buy Crypto Blue Chip - 5 1.13%\n",
            "                         Buy BTC 50 :: ETH 50 0.96%\n",
            "                         Buy Web3 Tracker -0.19%\n",
            "                         Buy DeFi Tracker -1.40%\n",
            "                         Buy TOP COINS  (₹)  Bitcoin 5,332,097 ( 1.01% ) Buy Ethereum 261,101 ( 0.71% ) Buy Tether 83 ( 0.18% ) Buy BNB 50,055 ( -0.68% ) Buy Solana 11,976 ( -1.05% ) Buy Often, this metric is compared to that of precious metals, such as gold, enhancing Bitcoin's image as the \" digital gold \" and reinforcing its role as a store of value for the digital era. Did you Know? The world of cryptocurrencies is very dynamic. Prices can go up or down in a matter of seconds. Thus, having reliable answers to such questions is crucial for investors. View  Details  » Halving Dips & Surges: Historical Price Analysis Bitcoin's price trajectory often responds dramatically to halving events. After the first halving on November 28th, 2012, when the mining reward dropped from 50 BTC to 25 BTC,  Bitcoin's price  skyrocketed from $12 to $1,075 within a year, a stunning 8,858% increase. This surge was coupled with a drop in Bitcoin's inflation rate from 25.75% to 12% by January 2013. The second halving on July 9th, 2016, exhibited a similar pattern.  The reward fell from 25 BTC to 12.5 BTC, and Bitcoin experienced a 294% price increase from $650 to $2,560 over the following year. Simultaneously, its inflation rate fell from 8.7% to 4.1% by August 2016. Most recently, the third halving (May 11, 2020) saw Bitcoin's mining reward drop to 6.25 BTC and its price climb from $8,727 to approximately $55,847 by May 11, 2021, a gain of 540%. Correspondingly, the inflation rate diminished from 3.7% to 1.8% by June 2020.   ET CONTRIBUTORS These events suggest a pattern where Bitcoin halvings generally lead to diminishing returns, although the percentage gain following the third halving was greater than after the second. This anomaly was influenced by the Federal Reserve's increase in the M2 money supply, which effectively repriced BTC. However, this trend reversed when the Fed began its new cycle of rate hikes in March 2022, suppressing asset prices. Sentimental Analysis: Current Developments and Future Projections   ET CONTRIBUTORS (Bitcoin balance available in exchanges. Source: Glass Node) Bitcoin's price trajectory is a fascinating blend of historical trends, market events, and evolving investor sentiment. Recent developments offer compelling insights into the cryptocurrency's potential trajectory. One of the most significant recent developments, the approval of US Bitcoin ETFs, has spurred substantial capital inflows, driving Bitcoin to unprecedented highs and fueling a bullish market outlook. However, it's important to remember that this bull market may still be in its nascent stages. Experts anticipate volatility and price retractions along the way. Despite the bullish sentiment, recent geopolitical tensions following Iran's drone strikes towards Israel on April 13, 2024, triggered market turbulence. Bitcoin experienced a sharp decline, reaching its lowest level in a month. This event led to a sell-off, shedding about 8% of Bitcoin’s value in a brief period. Historically, though, such geopolitical conflicts have eventually fueled the  cryptocurrency  market. Another key factor to consider is the upcoming 2024  halving event . This programmatic reduction in Bitcoin's supply could amplify demand. Yet, the materialization of this demand hinges on multiple variables, such as selling pressure, regulatory shifts, and the broader macroeconomic landscape. Looking forward, the anticipated first rate cut by the Federal Reserve in mid-2024 is expected to further positively influence Bitcoin’s price. Interestingly, despite its inherent volatility, Bitcoin seems to be exhibiting signs of market maturity. There are fewer extreme price fluctuations compared to previous cycles, potentially making it a more appealing option for diverse investors. Further supporting this idea, a recent report by blockchain data analysis firm Glassnode highlights a significant decline in Bitcoin balances on exchanges. This trend aligns with the notion of investors adopting a long-term holding strategy. A shift towards such behavior could precipitate a supply shock, further contributing to upward price momentum. Technical Analysis Currently, Bitcoin is exhibiting a pre-halving retracement characterized by bearish signals and lateral market movements. A technical analysis of the weekly time frame reveals the formation of a Cup and Handle pattern in Bitcoin’s price chart. Traditionally, this pattern can proceed further downward movements. Notably, there is robust support within the $60,000 to $61,000 price range. Should this support level be breached, it is plausible to anticipate a retraction towards the $51,000 mark. In a worst-case scenario, prices could potentially decline to around $45,000 and it may indicate an interim bear market.   ET CONTRIBUTORS In the daily time frame, Bitcoin's price action is exhibiting consolidation within a defined range, marked by the formation of a triple top pattern. This pattern is typically recognized as a bearish reversal indicator, emerging after a sustained uptrend. The appearance of the triple top on Bitcoin's daily chart may signal a potential shift in market sentiment from bullish to bearish. Should Bitcoin break through the crucial support level at $60,000, we could witness a notable downtrend, with the price potentially falling to the $50,000- $51,000 range. This pivotal movement highlights the importance of closely monitoring these key technical levels, which serve as critical indicators for Bitcoin’s short-term market movements.   ET CONTRIBUTORS In integrating the Exponential Moving Average (EMA) with a period of 200 into our analysis, we enhance our insight into potentially precarious scenarios. Should the price range breach and Bitcoin (BTC) descends into the specified $50,000-$51,000 zone—coinciding with the EMA (200)—we could anticipate significant turmoil within the Altcoin Market Capitalization. A failure by BTC to maintain support at the critical EMA (200) juncture may signal the onset of a temporary bear market, as previously indicated. Notably, BTC's descent below the EMA (200) is widely recognized as a conventional strategy for exiting bull markets.   ET CONTRIBUTORS Considering various macroeconomic and microeconomic factors, there is a solid foundation for optimism about Bitcoin's potential to rebound and set new all-time highs. Projecting a target of $120,000 for Bitcoin in 2024 is well-grounded in the current market dynamics and historical performance trends. This outlook emphasizes the critical need to monitor key technical thresholds and market sentiments closely as Bitcoin approaches its next halving event. The intricate array of factors surrounding Bitcoin's halving events reveals that these are not merely technical updates but pivotal market catalysts. Historical trends of price increases post-halving, alongside evolving market sentiments and technical patterns, provide deep insights into Bitcoin’s future potential. The recent approval of U.S. ETFs and shifts in the global economic landscape add new dimensions to market predictions, yet the fundamental economic principles of supply and demand remain the driving force behind Bitcoin's long-term viability. As we look forward to the 2024 halving, it is clear that it brings both challenges and opportunities. Investors and market analysts are advised to maintain vigilant oversight of crucial technical levels and broader market indicators. Through meticulous analysis and a sophisticated understanding of Bitcoin's market mechanics, stakeholders are well-equipped to navigate the upcoming fluctuations and exploit the opportunities that emerge as Bitcoin further matures and becomes more integrated into the global financial system. (The author is Research Analyst, Mudrex) (Disclaimer: Recommendations, suggestions, views and opinions given by the experts are their own. These do not represent the views of The Economic Times) (You can now subscribe to our  ETMarkets WhatsApp channel ) (Disclaimer: The opinions expressed in this column are that of the writer. The facts and opinions expressed here do not reflect the views of  www.economictimes.com .) Read More News on Bitcoin Halving Bitcoin price cryptocurrency community market volatility digital gold cryptocurrency (What's moving  Sensex  and   Nifty   Track   latest market news ,   stock tips  and   expert advice , on   ETMarkets .  Also, ETMarkets.com is now on Telegram. For fastest news alerts on financial markets, investment strategies and stocks alerts,  subscribe to our Telegram feeds  .)   Download  The Economic Times News App  to get Daily Market Updates & Live Business News.    Subscribe to  The Economic Times Prime  and read the  Economic Times ePaper  Online.and  Sensex Today .    Top Trending Stocks:  SBI Share Price ,  Axis Bank Share Price ,  HDFC Bank Share Price ,  Infosys Share Price ,  Wipro Share Price ,  NTPC Share Price ... more less (You can now subscribe to our  ETMarkets WhatsApp channel ) Read More News on Bitcoin Halving Bitcoin price cryptocurrency community market volatility digital gold cryptocurrency (What's moving  Sensex  and   Nifty   Track   latest market news ,   stock tips  and   expert advice , on   ETMarkets .  Also, ETMarkets.com is now on Telegram. For fastest news alerts on financial markets, investment strategies and stocks alerts,  subscribe to our Telegram feeds  .)   Download  The Economic Times News App  to get Daily Market Updates & Live Business News.    Subscribe to  The Economic Times Prime  and read the  Economic Times ePaper  Online.and  Sensex Today .    Top Trending Stocks:  SBI Share Price ,  Axis Bank Share Price ,  HDFC Bank Share Price ,  Infosys Share Price ,  Wipro Share Price ,  NTPC Share Price ... more less Pick the best stocks for yourself \n",
            "\t\t            Powered by\n",
            "\t\t             Weekly Top Picks: Eight stocks with consistent score improvement and upside potential of up to 40% 9 mins read 4 stocks with 5 % to 8.87% dividend yields and continuous dividend payments for 7 years 7 mins read Weekly Top Picks: Seven large & mid caps with consistent score improvement and upside potential of up to 42% 9 mins read What do Q2 LIC results indicate for other Insurance companies? Two Life and 3 non-life Insurance players with “buy” and “strong buy” ratings 3 mins read Large cap stocks with upside potential of more than 25% 4 mins read 5 stocks for a high dividend yielding portfolio 8 mins read Eight midcap stocks, 2 with“ Strong Buy” and 6 with “Buy” recommendations with potential upside of up to 35% 7 mins read Six high ROE and low PEG ratio stocks, right combination for wealth creation 8 mins read \n",
            "                                View  More Stories\n",
            "                             \n",
            "\t\t            Subscribe to  ETPrime\n"
          ]
        }
      ]
    },
    {
      "cell_type": "markdown",
      "source": [
        "Berikut adalah hasil data scraping yang kami dapatkan menggunakan bs4. Diatas data belum diproses lebih lanjut.\n",
        "\n",
        "Kami juga mengantisipasi jika data tidak ter-scrape menggunakan metode if, jika data tidak ter-append oleh fungsi maka tampilkan peringatan bahwa \"Data tidak ada.\". Dengan cara ini kita memiliki insight untuk mengambil url lain yang lebih terbuka."
      ],
      "metadata": {
        "id": "QNCz5NDgzzEZ"
      }
    },
    {
      "cell_type": "code",
      "source": [
        "def preprocess(text):\n",
        "  text = re.sub(r'[^a-zA-Z0-9\\s]', '', text)\n",
        "  text = re.sub(r'\\w\\d\\w', '', text)\n",
        "  text = re.sub(r'[0-9]+', '', text)\n",
        "\n",
        "  text = text.lower()\n",
        "\n",
        "  # Tokenization\n",
        "  words = word_tokenize(text)\n",
        "\n",
        "  # Hapus stopwords\n",
        "  stop_words = set(stopwords.words('english'))\n",
        "  words = [word for word in words if word not in stop_words]\n",
        "\n",
        "  # Lemmatization\n",
        "  lemmatizer = WordNetLemmatizer()\n",
        "  words = [lemmatizer.lemmatize(word) for word in words]\n",
        "\n",
        "  return words"
      ],
      "metadata": {
        "id": "a3zBkHXZt_D_"
      },
      "execution_count": null,
      "outputs": []
    },
    {
      "cell_type": "markdown",
      "source": [
        "Setelah data collecting selesai, langkah selanjutnya adalah kita melakukan preproses terhadap data.\n",
        "\n",
        "Ada beberapa tahapan dari yang telah kami riset, yaitu:\n",
        "\n",
        "Tokenization - Stopwords - Lemmatization\n",
        "\n",
        "Kami disini tidak melakukan proses stemming karena kami rasa dengan lematization sudah cukup."
      ],
      "metadata": {
        "id": "JNjsuSnB0aSm"
      }
    },
    {
      "cell_type": "code",
      "source": [
        "prepro_health = [preprocess(article) for article in health_articles]\n",
        "prepro_sports = [preprocess(article) for article in sports_articles]\n",
        "prepro_finance = [preprocess(article) for article in finance_articles]"
      ],
      "metadata": {
        "id": "naquWCjmuXnv"
      },
      "execution_count": null,
      "outputs": []
    },
    {
      "cell_type": "code",
      "source": [
        "print(\"Prepro Health Data: \", prepro_health)\n",
        "print(\"\\nPrepro Sports Data: \", prepro_sports)\n",
        "print(\"\\nPrepro Finances Data: \", prepro_finance)"
      ],
      "metadata": {
        "colab": {
          "base_uri": "https://localhost:8080/"
        },
        "id": "K5ZJ_L9tuxC9",
        "outputId": "2f91e19d-2fe2-423d-89c8-47f6e2f134f4"
      },
      "execution_count": null,
      "outputs": [
        {
          "output_type": "stream",
          "name": "stdout",
          "text": [
            "Prepro Health Data:  [['key', 'point', 'sarscov', 'continues', 'circulate', 'evolve', 'important', 'genetic', 'antigenic', 'evolution', 'spike', 'protein', 'objective', 'update', 'covi', 'vaccine', 'antigen', 'composition', 'enhance', 'vaccineinduced', 'immune', 'response', 'circulating', 'sarscov', 'variant', 'virus', 'expected', 'continue', 'evolve', 'jn', 'tagcovac', 'advises', 'use', 'monovalent', 'jn', 'lineage', 'antigen', 'future', 'formulation', 'covi', 'vaccine', 'accordance', 'sage', 'policy', 'vaccination', 'programme', 'continue', 'use', 'emergencyuse', 'listed', 'prequalified', 'covi', 'vaccine', 'vaccination', 'delayed', 'anticipation', 'access', 'vaccine', 'updated', 'composition', 'technical', 'advisory', 'group', 'covi', 'vaccine', 'composition', 'tagcovac', 'meet', 'regularly', 'ass', 'impact', 'sarscov', 'evolution', 'performance', 'approved', 'covi', 'vaccine', 'includes', 'meeting', 'person', 'approximately', 'every', 'six', 'month', 'determine', 'implication', 'sarscov', 'evolution', 'covi', 'vaccine', 'antigen', 'composition', 'advise', 'whether', 'change', 'needed', 'antigen', 'composition', 'future', 'covi', 'vaccine', 'twiceyearly', 'evidence', 'review', 'tagcovac', 'based', 'need', 'continued', 'monitoring', 'evolution', 'sarscov', 'kinetics', 'protection', 'vaccinederived', 'immunity', 'may', 'tagcovac', 'recommended', 'use', 'monovalent', 'xbb', 'descendent', 'lineage', 'xb', 'vaccine', 'antigen', 'december', 'tagcovac', 'advised', 'retaining', 'use', 'monovalent', 'xbb', 'descendent', 'lineage', 'xb', 'vaccine', 'antigen', 'several', 'manufacturer', 'using', 'mrna', 'proteinbased', 'viral', 'vector', 'vaccine', 'platform', 'developed', 'covi', 'vaccine', 'monovalent', 'xb', 'formulation', 'approved', 'use', 'regulatory', 'authority', 'introduced', 'covi', 'vaccination', 'programme', 'country', 'previous', 'statement', 'tagcovac', 'found', 'website', 'tagcovac', 'reconvened', 'april', 'review', 'genetic', 'antigenic', 'evolution', 'sarscov', 'immune', 'response', 'sarscov', 'infection', 'andor', 'covi', 'vaccination', 'performance', 'currently', 'approved', 'vaccine', 'circulating', 'sarscov', 'variant', 'implication', 'covi', 'vaccine', 'antigen', 'composition', 'evidence', 'reviewed', 'published', 'unpublished', 'evidence', 'reviewed', 'tagcovac', 'included', 'sarscov', 'genetic', 'evolution', 'support', 'technical', 'advisory', 'group', 'sarscov', 'virus', 'evolution', 'tagve', 'antigenic', 'characterization', 'previous', 'emerging', 'sarscov', 'variant', 'using', 'virus', 'neutralization', 'test', 'animal', 'antiserum', 'human', 'serum', 'analysis', 'antigenic', 'relationship', 'using', 'antigenic', 'cartography', 'immunogenicity', 'data', 'breadth', 'neutralizing', 'antibody', 'response', 'elicited', 'currently', 'approved', 'vaccine', 'antigen', 'circulating', 'sarscov', 'variant', 'using', 'animal', 'human', 'serum', 'including', 'modelling', 'data', 'vaccine', 'effectiveness', 'estimate', 'currently', 'approved', 'vaccine', 'period', 'circulation', 'xbb', 'jn', 'lineage', 'preliminary', 'immunogenicity', 'data', 'immune', 'response', 'following', 'infection', 'circulating', 'sarscov', 'variant', 'preliminary', 'preclinical', 'clinical', 'immunogenicity', 'data', 'performance', 'candidate', 'vaccine', 'updated', 'antigen', 'shared', 'confidentially', 'vaccine', 'manufacturer', 'tagcovac', 'detail', 'publicly', 'available', 'data', 'reviewed', 'tagcovac', 'found', 'accompanying', 'data', 'annex', 'unpublished', 'andor', 'confidential', 'data', 'reviewed', 'tagcovac', 'shown', 'summary', 'available', 'evidence', 'sarscov', 'continues', 'circulate', 'evolve', 'genetic', 'change', 'important', 'region', 'spike', 'protein', 'sarscov', 'april', 'nearly', 'sarscov', 'genetic', 'sequence', 'publicly', 'available', 'database', 'derived', 'jn', 'variant', 'continue', 'displace', 'existing', 'xbb', 'lineage', 'variant', 'eg', 'eg', 'displacement', 'indicates', 'greater', 'fitness', 'jn', 'derived', 'variant', 'compared', 'circulating', 'sarscov', 'variant', 'human', 'population', 'several', 'jn', 'derived', 'variant', 'eg', 'j', 'j', 'kp', 'independently', 'evolved', 'change', 'spike', 'protein', 'epitope', 'involving', 'amino', 'acid', 'residue', 'andor', 'substitution', 'amino', 'acid', 'residue', 'identified', 'previous', 'sarscov', 'variant', 'eg', 'bq', 'xbb', 'l', 'eg', 'hk', 'within', 'epitope', 'known', 'targeted', 'neutralizing', 'antibody', 'given', 'displacement', 'xbb', 'lineage', 'variant', 'jn', 'derived', 'variant', 'likely', 'nearterm', 'circulating', 'sarscov', 'variant', 'derived', 'jn', 'immunologically', 'nave', 'animal', 'human', 'serum', 'xb', 'jn', 'antigenically', 'distinct', 'sarscov', 'variant', 'nonnave', 'animal', 'human', 'postmonovalent', 'xb', 'vaccination', 'serum', 'without', 'recent', 'prior', 'infection', 'neutralize', 'xb', 'derivative', 'including', 'eg', 'hk', 'hv', 'well', 'b', 'jn', 'however', 'neutralization', 'titre', 'jn', 'published', 'unpublished', 'study', 'typically', 'lower', 'old', 'homologous', 'xb', 'immunizing', 'antigen', 'reduction', 'cross', 'neutralization', 'jn', 'variant', 'l', 'andor', 'substitution', 'secondary', 'analysis', 'published', 'immunogenicity', 'data', 'demonstrates', 'additional', 'vaccine', 'dose', 'updated', 'vaccine', 'antigen', 'result', 'average', 'increase', 'neutralizing', 'antibody', 'variant', 'compared', 'vaccine', 'previous', 'vaccine', 'antigen', 'using', 'statistical', 'modeling', 'predicted', 'additional', 'effectiveness', 'vaccine', 'dose', 'updated', 'vaccine', 'antigen', 'may', 'approximately', 'severe', 'disease', 'compared', 'previous', 'vaccine', 'antigen', 'symptomatic', 'disease', 'context', 'high', 'infection', 'vaccinederived', 'immunity', 'population', 'contemporary', 'vaccine', 'effectiveness', 'estimate', 'mostly', 'relative', 'rve', 'rather', 'absolute', 'comparing', 'vaccinated', 'unvaccinated', 'individual', 'demonstrate', 'added', 'protection', 'recent', 'vaccination', 'preexisting', 'infection', 'vaccinederived', 'immunity', 'bivalent', 'index', 'virus', 'ba', 'b', 'mrna', 'vaccine', 'betabased', 'protein', 'vaccine', 'continue', 'offer', 'protection', 'severe', 'disease', 'period', 'xbb', 'descendent', 'lineage', 'circulation', 'protection', 'symptomatic', 'disease', 'infection', 'lower', 'wane', 'rapidly', 'several', 'month', 'monovalent', 'xb', 'vaccine', 'introduced', 'vaccination', 'programme', 'last', 'quarter', 'protection', 'severe', 'disease', 'period', 'xbb', 'descendent', 'lineage', 'circulation', 'high', 'first', 'three', 'month', 'vaccination', 'protection', 'symptomatic', 'disease', 'lower', 'fewer', 'study', 'estimating', 'rve', 'monovalent', 'xb', 'vaccine', 'period', 'jn', 'descendent', 'lineage', 'circulation', 'initial', 'study', 'show', 'additional', 'protection', 'offered', 'first', 'three', 'month', 'vaccination', 'point', 'towards', 'slight', 'reduction', 'jn', 'compared', 'xbb', 'lineage', 'variant', 'protection', 'severe', 'symptomatic', 'disease', 'observation', 'consistent', 'reduction', 'neutralizing', 'antibody', 'titre', 'observed', 'preclinical', 'clinical', 'immunogenicity', 'study', 'monovalent', 'xb', 'vaccinee', 'serum', 'jn', 'derived', 'variant', 'preclinical', 'data', 'shared', 'confidentially', 'tagcovac', 'vaccine', 'manufacturer', 'show', 'immunization', 'nave', 'mouse', 'well', 'mouse', 'previously', 'immunized', 'sarscov', 'variant', 'monovalent', 'jontaining', 'vaccine', 'candidate', 'elicits', 'higher', 'neutralizing', 'antibody', 'response', 'jn', 'emerging', 'descendent', 'variant', 'compared', 'response', 'elicited', 'currently', 'approved', 'vaccine', 'single', 'immunogenicity', 'study', 'human', 'monovalent', 'jontaining', 'vaccine', 'candidate', 'suggests', 'jn', 'vaccine', 'antigen', 'likely', 'produce', 'higher', 'neutralising', 'antibody', 'cocirculating', 'jn', 'variant', 'eg', 'kp', 'xb', 'related', 'vaccine', 'antigen', 'tagcovac', 'acknowledges', 'several', 'limitation', 'available', 'data', 'persistent', 'increasing', 'gap', 'geneticgenomic', 'surveillance', 'sarscov', 'globally', 'including', 'low', 'number', 'sample', 'sequenced', 'limited', 'geographic', 'diversity', 'tagcovac', 'strongly', 'support', 'establishment', 'coronavirus', 'network', 'covinet', 'help', 'address', 'information', 'gap', 'trajectory', 'sarscov', 'evolution', 'indicates', 'jn', 'likely', 'progenitor', 'sarscov', 'variant', 'near', 'term', 'however', 'timing', 'specific', 'mutation', 'antigenic', 'characteristic', 'potential', 'public', 'health', 'impact', 'newly', 'emerged', 'eg', 'kp', 'future', 'variant', 'remain', 'unknown', 'tagcovac', 'strongly', 'support', 'ongoing', 'work', 'tagve', 'although', 'neutralizing', 'antibody', 'titre', 'shown', 'important', 'correlate', 'protection', 'sarscov', 'infection', 'estimate', 'vaccine', 'effectiveness', 'multiple', 'component', 'immune', 'protection', 'elicited', 'infection', 'andor', 'vaccination', 'data', 'immune', 'response', 'following', 'xbb', 'jn', 'descendent', 'lineage', 'infection', 'xb', 'vaccination', 'largely', 'restricted', 'neutralizing', 'antibody', 'data', 'aspect', 'immune', 'response', 'including', 'cellular', 'immunity', 'limited', 'immunogenicity', 'data', 'currently', 'circulating', 'sarscov', 'variant', 'available', 'covi', 'vaccine', 'estimate', 'rve', 'recently', 'circulating', 'sarscov', 'variant', 'including', 'xbb', 'jn', 'descendent', 'lineage', 'limited', 'term', 'number', 'study', 'geographic', 'diversity', 'vaccine', 'platform', 'evaluated', 'population', 'assessed', 'duration', 'followup', 'comparative', 'estimate', 'monovalent', 'xb', 'vaccine', 'versus', 'formulation', 'delivered', 'time', 'period', 'recommendation', 'covi', 'vaccine', 'antigen', 'composition', 'april', 'nearly', 'circulating', 'sarscov', 'variant', 'reported', 'publicly', 'available', 'database', 'jn', 'derived', 'variant', 'virus', 'evolution', 'expected', 'continue', 'jn', 'future', 'formulation', 'covi', 'vaccine', 'aim', 'induce', 'enhanced', 'neutralizing', 'antibody', 'response', 'jn', 'descendent', 'lineage', 'one', 'approach', 'recommended', 'tagcovac', 'use', 'monovalent', 'jn', 'lineage', 'genbank', 'gisaid', 'epiis', 'biohub', 'whol', 'antigen', 'vaccine', 'continued', 'use', 'current', 'monovalent', 'xb', 'formulation', 'offer', 'protection', 'given', 'neutralizing', 'antibody', 'response', 'early', 'jn', 'descendent', 'lineage', 'evidence', 'early', 'rve', 'study', 'jn', 'however', 'expected', 'ability', 'xb', 'vaccination', 'protect', 'symptomatic', 'disease', 'may', 'le', 'robust', 'sarscov', 'evolution', 'continues', 'jn', 'formulation', 'andor', 'platform', 'achieve', 'robust', 'neutralizing', 'antibody', 'response', 'currently', 'circulating', 'variant', 'particularly', 'jn', 'descendent', 'lineage', 'also', 'considered', 'accordance', 'sage', 'policy', 'vaccination', 'programme', 'continue', 'use', 'emergencyuse', 'listed', 'prequalified', 'covi', 'vaccine', 'vaccination', 'delayed', 'anticipation', 'access', 'vaccine', 'updated', 'composition', 'stress', 'importance', 'access', 'equity', 'use', 'available', 'covi', 'vaccine', 'data', 'requirement', 'consideration', 'given', 'limitation', 'evidence', 'upon', 'recommendation', 'derived', 'anticipated', 'continued', 'evolution', 'virus', 'tagcovac', 'strongly', 'encourages', 'generation', 'data', 'immune', 'response', 'clinical', 'endpoint', 'ie', 'performance', 'currently', 'approved', 'covi', 'vaccine', 'emerging', 'sarscov', 'variant', 'candidate', 'vaccine', 'updated', 'antigen', 'time', 'previously', 'stated', 'tagcovac', 'continues', 'encourage', 'development', 'vaccine', 'may', 'improve', 'protection', 'infection', 'reduce', 'transmission', 'sarscov']]\n",
            "\n",
            "Prepro Sports Data:  [['mumbai', 'indian', 'v', 'delhi', 'capital', 'bcci', 'photo', 'delhi', 'capital', 'dc', 'set', 'play', 'mumbai', 'indian', 'ipl', 'match', 'saturday', 'despite', 'inconsistent', 'performance', 'season', 'four', 'win', 'far', 'propelled', 'dc', 'sixth', 'spot', 'point', 'table', 'victory', 'mi', 'would', 'improve', 'likelihood', 'securing', 'spot', 'playoff', 'mumbai', 'indian', 'started', 'season', 'poorly', 'managed', 'turn', 'thing', 'around', 'three', 'win', 'eight', 'match', 'far', 'mi', 'however', 'would', 'high', 'hope', 'today', 'match', 'three', 'win', 'came', 'last', 'four', 'match', 'would', 'hopeing', 'keep', 'momentum', 'going', 'currently', 'mumbai', 'indian', 'eighth', 'place', 'afford', 'loss', 'rishabh', 'pant', 'performing', 'exceptionally', 'well', 'dc', 'showing', 'improvement', 'game', 'excellent', 'wicketkeeping', 'ability', 'bold', 'batting', 'played', 'key', 'role', 'team', 'achievement', 'pant', 'recent', 'unbeaten', 'matchwinning', 'performance', 'gujarat', 'titan', 'displayed', 'aggressive', 'approach', 'strengthened', 'chance', 'securing', 'place', 'india', 'world', 'cup', 'squad', 'dc', 'discovered', 'skilled', 'toporder', 'batsman', 'jake', 'frasermcgurk', 'however', 'anticipate', 'better', 'performance', 'opener', 'prithvi', 'shaw', 'david', 'warner', 'absent', 'last', 'match', 'may', 'come', 'back', 'playing', 'eleven', 'tristan', 'stubbs', 'axar', 'patel', 'also', 'shown', 'skill', 'batting', 'spin', 'duo', 'kuldeep', 'yadav', 'axar', 'economical', 'however', 'dc', 'fast', 'bowling', 'unit', 'requires', 'improvement', 'especially', 'anrich', 'nortje', 'forgettable', 'season', 'pacer', 'plagued', 'injury', 'resurgence', 'mi', 'season', 'started', 'victory', 'dc', 'aim', 'replicate', 'performance', 'important', 'match', 'rohit', 'sharma', 'suryakumar', 'yadav', 'tilak', 'varma', 'scoring', 'run', 'need', 'maintain', 'consistency', 'tim', 'david', 'ishan', 'kishan', 'captain', 'hardik', 'pandya', 'need', 'make', 'significant', 'contribution', 'relieve', 'pressure', 'top', 'three', 'mi', 'batting', 'displayed', 'moment', 'excellence', 'bowling', 'continues', 'significant', 'worry', 'jasprit', 'bumrah', 'stood', 'top', 'bowler', 'spearheading', 'attack', 'wicket', 'commendable', 'economy', 'rate', 'gerald', 'coetzee', 'new', 'addition', 'shown', 'inconsistency', 'apart', 'two', 'seamers', 'mumbai', 'bowling', 'performance', 'disappointing', 'team', 'delhi', 'capital', 'team', 'includes', 'player', 'rishabh', 'pant', 'captain', 'david', 'warner', 'abishek', 'porel', 'ricky', 'bhui', 'yash', 'dhull', 'shai', 'hope', 'prithvi', 'shaw', 'tristan', 'stubbs', 'kumar', 'kushagra', 'swastik', 'chikara', 'ishant', 'sharma', 'jhye', 'richardson', 'rasikh', 'dar', 'salam', 'vicky', 'ostwal', 'anrich', 'nortje', 'mukesh', 'kumar', 'kuldeep', 'yadav', 'praveen', 'dubey', 'khaleel', 'ahmed', 'sumit', 'kumar', 'axar', 'patel', 'gulbadin', 'naib', 'lalit', 'yadav', 'jake', 'frasermcgurk', 'mumbai', 'indian', 'team', 'includes', 'hardik', 'pandya', 'captain', 'along', 'player', 'like', 'rohit', 'sharma', 'suryakumar', 'yadav', 'dewald', 'brevis', 'jasprit', 'bumrah', 'piyush', 'chawla', 'gerald', 'coetzee', 'tim', 'david', 'shreyas', 'gopal', 'ishan', 'kishan', 'wicketkeeper', 'anshul', 'kamboj', 'kumar', 'kartikeya', 'akash', 'madhwal', 'kwena', 'maphaka', 'mohammad', 'nabi', 'sham', 'mulani', 'naman', 'dhir', 'shivalik', 'sharma', 'romario', 'shepherd', 'arjun', 'tendulkar', 'nuwan', 'thushara', 'tilak', 'varma', 'harvik', 'desai', 'nehal', 'wadhera', 'luke', 'wood', 'dc', 'v', 'mi', 'headtohead', 'delhi', 'capital', 'mumbai', 'indian', 'dc', 'v', 'mi', 'match', 'time', 'match', 'start', 'pm', 'ist', 'gmt', 'toss', 'taking', 'place', 'half', 'hour', 'match', 'ie', 'pm', 'gmt', 'dc', 'v', 'mi', 'match', 'venue', 'arun', 'jaitley', 'stadium', 'new', 'delhi', 'live', 'broadcast', 'dc', 'v', 'mi', 'match', 'television', 'india', 'dc', 'v', 'mi', 'match', 'broadcast', 'live', 'via', 'star', 'sport', 'network', 'live', 'stream', 'india', 'live', 'streaming', 'dc', 'v', 'mi', 'available', 'jiocinema', 'subscribe', 'economic', 'time', 'whatsapp', 'channel', 'read', 'news', 'dc', 'v', 'mi', 'dc', 'v', 'mi', 'pitch', 'arun', 'jaitley', 'stadium', 'pitch', 'dc', 'v', 'mi', 'dream', 'dc', 'v', 'mi', 'playing', 'dc', 'v', 'mi', 'ipl', 'ipl', 'delhi', 'captials', 'v', 'mumbai', 'indian', 'today', 'ipl', 'match', 'catch', 'business', 'news', 'breaking', 'news', 'budget', 'news', 'budget', 'live', 'coverage', 'event', 'latest', 'news', 'update', 'economic', 'time', 'download', 'economic', 'time', 'news', 'app', 'get', 'daily', 'market', 'update', 'live', 'business', 'news', 'subscribe', 'economic', 'time', 'prime', 'read', 'et', 'epaper', 'online', 'le', 'subscribe', 'economic', 'time', 'whatsapp', 'channel', 'read', 'news', 'dc', 'v', 'mi', 'dc', 'v', 'mi', 'pitch', 'arun', 'jaitley', 'stadium', 'pitch', 'dc', 'v', 'mi', 'dream', 'dc', 'v', 'mi', 'playing', 'dc', 'v', 'mi', 'ipl', 'ipl', 'delhi', 'captials', 'v', 'mumbai', 'indian', 'today', 'ipl', 'match', 'catch', 'business', 'news', 'breaking', 'news', 'budget', 'news', 'budget', 'live', 'coverage', 'event', 'latest', 'news', 'update', 'economic', 'time', 'download', 'economic', 'time', 'news', 'app', 'get', 'daily', 'market', 'update', 'live', 'business', 'news', 'subscribe', 'economic', 'time', 'prime', 'read', 'et', 'epaper', 'online', 'le', 'prime', 'exclusive', 'investment', 'idea', 'stock', 'report', 'plus', 'epaper', 'wealth', 'edition', 'app', 'striking', 'core', 'uber', 'ola', 'business', 'model', 'succeeding', 'ok', 'tata', 'bye', 'six', 'thing', 'treat', 'india', 'ev', 'rangeanxiety', 'pm', 'mail', 'two', 'top', 'exit', 'indigo', 'heading', 'deep', 'restructuring', 'zepto', 'ceo', 'aadit', 'palicha', 'doesnt', 'run', 'quickcommerce', 'app', 'truck', 'taking', 'train', 'amul', 'milk', 'reaching', 'faster', 'cheaper', 'summer', 'look', 'beyond', 'ac', 'stock', 'stock', 'consumer', 'electrical', 'space', 'upside', 'potential', 'view', 'story']]\n",
            "\n",
            "Prepro Finances Data:  [['jithin', 'mohandas', 'research', 'analyst', 'mudrex', 'total', 'circulation', 'coin', 'itll', 'distributed', 'network', 'node', 'make', 'block', 'amount', 'cut', 'half', 'every', 'year', 'first', 'year', 'coin', 'next', 'year', 'coin', 'next', 'year', 'coin', 'next', 'year', 'coin', 'etcsatoshi', 'nakamoto', 'every', 'four', 'year', 'bitcoin', 'network', 'undergoes', 'significant', 'change', 'known', 'halving', 'process', 'reduces', 'reward', 'mining', 'new', 'block', 'half', 'mechanism', 'built', 'bitcoins', 'protocol', 'control', 'inflation', 'cap', 'total', 'supply', 'million', 'coin', 'halving', 'event', 'therefore', 'pivotal', 'highly', 'anticipated', 'occasion', 'within', 'cryptocurrency', 'community', 'often', 'triggering', 'speculation', 'market', 'volatility', 'stocktoflow', 'ratio', 'key', 'concept', 'used', 'measure', 'current', 'supply', 'commodity', 'rate', 'new', 'supply', 'entering', 'market', 'bitcoin', 'halving', 'event', 'markedly', 'increase', 'ratio', 'underscoring', 'growing', 'scarcity', 'ratio', 'widely', 'considered', 'crucial', 'indicator', 'bitcoins', 'longterm', 'valuation', 'crypto', 'tracker', 'top', 'coin', 'set', 'nft', 'metaverse', 'tracker', 'buy', 'crypto', 'blue', 'chip', 'buy', 'btc', 'eth', 'buy', 'web', 'tracker', 'buy', 'defi', 'tracker', 'buy', 'top', 'coin', 'bitcoin', 'buy', 'ethereum', 'buy', 'tether', 'buy', 'bnb', 'buy', 'solana', 'buy', 'often', 'metric', 'compared', 'precious', 'metal', 'gold', 'enhancing', 'bitcoins', 'image', 'digital', 'gold', 'reinforcing', 'role', 'store', 'value', 'digital', 'era', 'know', 'world', 'cryptocurrencies', 'dynamic', 'price', 'go', 'matter', 'second', 'thus', 'reliable', 'answer', 'question', 'crucial', 'investor', 'view', 'detail', 'halving', 'dip', 'surge', 'historical', 'price', 'analysis', 'bitcoins', 'price', 'trajectory', 'often', 'responds', 'dramatically', 'halving', 'event', 'first', 'halving', 'november', 'h', 'mining', 'reward', 'dropped', 'btc', 'btc', 'bitcoins', 'price', 'skyrocketed', 'within', 'year', 'stunning', 'increase', 'surge', 'coupled', 'drop', 'bitcoins', 'inflation', 'rate', 'january', 'second', 'halving', 'july', 'th', 'exhibited', 'similar', 'pattern', 'reward', 'fell', 'btc', 'btc', 'bitcoin', 'experienced', 'price', 'increase', 'following', 'year', 'simultaneously', 'inflation', 'rate', 'fell', 'august', 'recently', 'third', 'halving', 'may', 'saw', 'bitcoins', 'mining', 'reward', 'drop', 'btc', 'price', 'climb', 'approximately', 'may', 'gain', 'correspondingly', 'inflation', 'rate', 'diminished', 'june', 'et', 'contributor', 'event', 'suggest', 'pattern', 'bitcoin', 'halvings', 'generally', 'lead', 'diminishing', 'return', 'although', 'percentage', 'gain', 'following', 'third', 'halving', 'greater', 'second', 'anomaly', 'influenced', 'federal', 'reserve', 'increase', 'money', 'supply', 'effectively', 'repriced', 'btc', 'however', 'trend', 'reversed', 'fed', 'began', 'new', 'cycle', 'rate', 'hike', 'march', 'suppressing', 'asset', 'price', 'sentimental', 'analysis', 'current', 'development', 'future', 'projection', 'et', 'contributor', 'bitcoin', 'balance', 'available', 'exchange', 'source', 'glass', 'node', 'bitcoins', 'price', 'trajectory', 'fascinating', 'blend', 'historical', 'trend', 'market', 'event', 'evolving', 'investor', 'sentiment', 'recent', 'development', 'offer', 'compelling', 'insight', 'cryptocurrencys', 'potential', 'trajectory', 'one', 'significant', 'recent', 'development', 'approval', 'u', 'bitcoin', 'etf', 'spurred', 'substantial', 'capital', 'inflow', 'driving', 'bitcoin', 'unprecedented', 'high', 'fueling', 'bullish', 'market', 'outlook', 'however', 'important', 'remember', 'bull', 'market', 'may', 'still', 'nascent', 'stage', 'expert', 'anticipate', 'volatility', 'price', 'retraction', 'along', 'way', 'despite', 'bullish', 'sentiment', 'recent', 'geopolitical', 'tension', 'following', 'iran', 'drone', 'strike', 'towards', 'israel', 'april', 'triggered', 'market', 'turbulence', 'bitcoin', 'experienced', 'sharp', 'decline', 'reaching', 'lowest', 'level', 'month', 'event', 'led', 'selloff', 'shedding', 'bitcoins', 'value', 'brief', 'period', 'historically', 'though', 'geopolitical', 'conflict', 'eventually', 'fueled', 'cryptocurrency', 'market', 'another', 'key', 'factor', 'consider', 'upcoming', 'halving', 'event', 'programmatic', 'reduction', 'bitcoins', 'supply', 'could', 'amplify', 'demand', 'yet', 'materialization', 'demand', 'hinge', 'multiple', 'variable', 'selling', 'pressure', 'regulatory', 'shift', 'broader', 'macroeconomic', 'landscape', 'looking', 'forward', 'anticipated', 'first', 'rate', 'cut', 'federal', 'reserve', 'mi', 'expected', 'positively', 'influence', 'bitcoins', 'price', 'interestingly', 'despite', 'inherent', 'volatility', 'bitcoin', 'seems', 'exhibiting', 'sign', 'market', 'maturity', 'fewer', 'extreme', 'price', 'fluctuation', 'compared', 'previous', 'cycle', 'potentially', 'making', 'appealing', 'option', 'diverse', 'investor', 'supporting', 'idea', 'recent', 'report', 'blockchain', 'data', 'analysis', 'firm', 'glassnode', 'highlight', 'significant', 'decline', 'bitcoin', 'balance', 'exchange', 'trend', 'aligns', 'notion', 'investor', 'adopting', 'longterm', 'holding', 'strategy', 'shift', 'towards', 'behavior', 'could', 'precipitate', 'supply', 'shock', 'contributing', 'upward', 'price', 'momentum', 'technical', 'analysis', 'currently', 'bitcoin', 'exhibiting', 'prehalving', 'retracement', 'characterized', 'bearish', 'signal', 'lateral', 'market', 'movement', 'technical', 'analysis', 'weekly', 'time', 'frame', 'reveals', 'formation', 'cup', 'handle', 'pattern', 'bitcoins', 'price', 'chart', 'traditionally', 'pattern', 'proceed', 'downward', 'movement', 'notably', 'robust', 'support', 'within', 'price', 'range', 'support', 'level', 'breached', 'plausible', 'anticipate', 'retraction', 'towards', 'mark', 'worstcase', 'scenario', 'price', 'could', 'potentially', 'decline', 'around', 'may', 'indicate', 'interim', 'bear', 'market', 'et', 'contributor', 'daily', 'time', 'frame', 'bitcoins', 'price', 'action', 'exhibiting', 'consolidation', 'within', 'defined', 'range', 'marked', 'formation', 'triple', 'top', 'pattern', 'pattern', 'typically', 'recognized', 'bearish', 'reversal', 'indicator', 'emerging', 'sustained', 'uptrend', 'appearance', 'triple', 'top', 'bitcoins', 'daily', 'chart', 'may', 'signal', 'potential', 'shift', 'market', 'sentiment', 'bullish', 'bearish', 'bitcoin', 'break', 'crucial', 'support', 'level', 'could', 'witness', 'notable', 'downtrend', 'price', 'potentially', 'falling', 'range', 'pivotal', 'movement', 'highlight', 'importance', 'closely', 'monitoring', 'key', 'technical', 'level', 'serve', 'critical', 'indicator', 'bitcoins', 'shortterm', 'market', 'movement', 'et', 'contributor', 'integrating', 'exponential', 'moving', 'average', 'ema', 'period', 'analysis', 'enhance', 'insight', 'potentially', 'precarious', 'scenario', 'price', 'range', 'breach', 'bitcoin', 'btc', 'descends', 'specified', 'zonecoinciding', 'ema', 'could', 'anticipate', 'significant', 'turmoil', 'within', 'altcoin', 'market', 'capitalization', 'failure', 'btc', 'maintain', 'support', 'critical', 'ema', 'juncture', 'may', 'signal', 'onset', 'temporary', 'bear', 'market', 'previously', 'indicated', 'notably', 'btcs', 'descent', 'ema', 'widely', 'recognized', 'conventional', 'strategy', 'exiting', 'bull', 'market', 'et', 'contributor', 'considering', 'various', 'macroeconomic', 'microeconomic', 'factor', 'solid', 'foundation', 'optimism', 'bitcoins', 'potential', 'rebound', 'set', 'new', 'alltime', 'high', 'projecting', 'target', 'bitcoin', 'wellgrounded', 'current', 'market', 'dynamic', 'historical', 'performance', 'trend', 'outlook', 'emphasizes', 'critical', 'need', 'monitor', 'key', 'technical', 'threshold', 'market', 'sentiment', 'closely', 'bitcoin', 'approach', 'next', 'halving', 'event', 'intricate', 'array', 'factor', 'surrounding', 'bitcoins', 'halving', 'event', 'reveals', 'merely', 'technical', 'update', 'pivotal', 'market', 'catalyst', 'historical', 'trend', 'price', 'increase', 'posthalving', 'alongside', 'evolving', 'market', 'sentiment', 'technical', 'pattern', 'provide', 'deep', 'insight', 'bitcoins', 'future', 'potential', 'recent', 'approval', 'u', 'etf', 'shift', 'global', 'economic', 'landscape', 'add', 'new', 'dimension', 'market', 'prediction', 'yet', 'fundamental', 'economic', 'principle', 'supply', 'demand', 'remain', 'driving', 'force', 'behind', 'bitcoins', 'longterm', 'viability', 'look', 'forward', 'halving', 'clear', 'brings', 'challenge', 'opportunity', 'investor', 'market', 'analyst', 'advised', 'maintain', 'vigilant', 'oversight', 'crucial', 'technical', 'level', 'broader', 'market', 'indicator', 'meticulous', 'analysis', 'sophisticated', 'understanding', 'bitcoins', 'market', 'mechanic', 'stakeholder', 'wellequipped', 'navigate', 'upcoming', 'fluctuation', 'exploit', 'opportunity', 'emerge', 'bitcoin', 'matures', 'becomes', 'integrated', 'global', 'financial', 'system', 'author', 'research', 'analyst', 'mudrex', 'disclaimer', 'recommendation', 'suggestion', 'view', 'opinion', 'given', 'expert', 'represent', 'view', 'economic', 'time', 'subscribe', 'etmarkets', 'whatsapp', 'channel', 'disclaimer', 'opinion', 'expressed', 'column', 'writer', 'fact', 'opinion', 'expressed', 'reflect', 'view', 'wwweconomictimescom', 'read', 'news', 'bitcoin', 'halving', 'bitcoin', 'price', 'cryptocurrency', 'community', 'market', 'volatility', 'digital', 'gold', 'cryptocurrency', 'whats', 'moving', 'sensex', 'nifty', 'track', 'latest', 'market', 'news', 'stock', 'tip', 'expert', 'advice', 'etmarkets', 'also', 'etmarketscom', 'telegram', 'fastest', 'news', 'alert', 'financial', 'market', 'investment', 'strategy', 'stock', 'alert', 'subscribe', 'telegram', 'feed', 'download', 'economic', 'time', 'news', 'app', 'get', 'daily', 'market', 'update', 'live', 'business', 'news', 'subscribe', 'economic', 'time', 'prime', 'read', 'economic', 'time', 'epaper', 'onlineand', 'sensex', 'today', 'top', 'trending', 'stock', 'sbi', 'share', 'price', 'axis', 'bank', 'share', 'price', 'hdfc', 'bank', 'share', 'price', 'infosys', 'share', 'price', 'wipro', 'share', 'price', 'ntpc', 'share', 'price', 'le', 'subscribe', 'etmarkets', 'whatsapp', 'channel', 'read', 'news', 'bitcoin', 'halving', 'bitcoin', 'price', 'cryptocurrency', 'community', 'market', 'volatility', 'digital', 'gold', 'cryptocurrency', 'whats', 'moving', 'sensex', 'nifty', 'track', 'latest', 'market', 'news', 'stock', 'tip', 'expert', 'advice', 'etmarkets', 'also', 'etmarketscom', 'telegram', 'fastest', 'news', 'alert', 'financial', 'market', 'investment', 'strategy', 'stock', 'alert', 'subscribe', 'telegram', 'feed', 'download', 'economic', 'time', 'news', 'app', 'get', 'daily', 'market', 'update', 'live', 'business', 'news', 'subscribe', 'economic', 'time', 'prime', 'read', 'economic', 'time', 'epaper', 'onlineand', 'sensex', 'today', 'top', 'trending', 'stock', 'sbi', 'share', 'price', 'axis', 'bank', 'share', 'price', 'hdfc', 'bank', 'share', 'price', 'infosys', 'share', 'price', 'wipro', 'share', 'price', 'ntpc', 'share', 'price', 'le', 'pick', 'best', 'stock', 'powered', 'weekly', 'top', 'pick', 'eight', 'stock', 'consistent', 'score', 'improvement', 'upside', 'potential', 'min', 'read', 'stock', 'dividend', 'yield', 'continuous', 'dividend', 'payment', 'year', 'min', 'read', 'weekly', 'top', 'pick', 'seven', 'large', 'mid', 'cap', 'consistent', 'score', 'improvement', 'upside', 'potential', 'min', 'read', 'q', 'lic', 'result', 'indicate', 'insurance', 'company', 'two', 'life', 'nonlife', 'insurance', 'player', 'buy', 'strong', 'buy', 'rating', 'min', 'read', 'large', 'cap', 'stock', 'upside', 'potential', 'min', 'read', 'stock', 'high', 'dividend', 'yielding', 'portfolio', 'min', 'read', 'eight', 'midcap', 'stock', 'strong', 'buy', 'buy', 'recommendation', 'potential', 'upside', 'min', 'read', 'six', 'high', 'roe', 'low', 'peg', 'ratio', 'stock', 'right', 'combination', 'wealth', 'creation', 'min', 'read', 'view', 'story', 'subscribe', 'etprime']]\n"
          ]
        }
      ]
    },
    {
      "cell_type": "markdown",
      "source": [
        "Berikut adalah data preprocessed. Terlihat bahwa data dipotong-potong per katanya."
      ],
      "metadata": {
        "id": "mx5YUB8d075n"
      }
    },
    {
      "cell_type": "markdown",
      "source": [
        "Tahapan selanjutnya adalah untuk membuat BoW atau Bag of Words."
      ],
      "metadata": {
        "id": "2r6WiykF1JWU"
      }
    },
    {
      "cell_type": "code",
      "source": [
        "# Bag of Words\n",
        "health_text = [' '.join(article) for article in prepro_health]\n",
        "sports_text = [' '.join(article) for article in prepro_sports]\n",
        "finance_text = [' '.join(article) for article in prepro_finance]\n",
        "\n",
        "# Satukan semua\n",
        "bow = health_text + sports_text + finance_text\n",
        "\n",
        "# Vectorization\n",
        "vectorizer = CountVectorizer()\n",
        "\n",
        "X_train = vectorizer.fit_transform(bow).toarray()\n",
        "\n",
        "# Bagi BoW kedalam kelasnya\n",
        "num_health_texts = len(health_text)\n",
        "num_sports_texts = len(sports_text)\n",
        "num_finance_texts = len(finance_text)\n",
        "\n",
        "X_health = X_train[:num_health_texts]\n",
        "X_sports = X_train[num_health_texts:num_health_texts + num_sports_texts]\n",
        "X_finance = X_train[num_health_texts + num_sports_texts:]"
      ],
      "metadata": {
        "id": "zz9RAdJUvQZM"
      },
      "execution_count": null,
      "outputs": []
    },
    {
      "cell_type": "markdown",
      "source": [
        "Disini kita membuat 3 bag of words terpisah terlebih dahulu, yaitu menjadi health_text, sports_text, finance_text.\n",
        "\n",
        "Setelah itu kita menyatukan semuanya menjadi variabel bow.\n",
        "\n",
        "Setelah BoW terbuat kami melakukan proses vektorasi untuk melihat dan menentukan bobot kata, supaya data text bisa diproses oleh mesin nantinya. Karena bagaimanpun mesin hanya akan bisa memproses angka.\n",
        "\n",
        "Vectorization selesai, lalu kami membagi BoW berdasarkan kelasnya, yaitu ada kelas health, sports dan finance."
      ],
      "metadata": {
        "id": "1g4hrVSs1Op1"
      }
    },
    {
      "cell_type": "code",
      "source": [
        "y_train = ['health', 'sports', 'finance']\n",
        "\n",
        "# Satukan semua BoW menjadi satu dataset\n",
        "X_train = np.concatenate((X_health, X_sports, X_finance))\n",
        "\n",
        "# Proses training\n",
        "classifier = MultinomialNB()\n",
        "classifier.fit(X_train, y_train)"
      ],
      "metadata": {
        "colab": {
          "base_uri": "https://localhost:8080/",
          "height": 51
        },
        "id": "nDh864M41GW3",
        "outputId": "af42618f-3407-411e-83f5-853a2227343b"
      },
      "execution_count": null,
      "outputs": [
        {
          "output_type": "execute_result",
          "data": {
            "text/plain": [
              "MultinomialNB()"
            ],
            "text/html": [
              "<style>#sk-container-id-1 {color: black;background-color: white;}#sk-container-id-1 pre{padding: 0;}#sk-container-id-1 div.sk-toggleable {background-color: white;}#sk-container-id-1 label.sk-toggleable__label {cursor: pointer;display: block;width: 100%;margin-bottom: 0;padding: 0.3em;box-sizing: border-box;text-align: center;}#sk-container-id-1 label.sk-toggleable__label-arrow:before {content: \"▸\";float: left;margin-right: 0.25em;color: #696969;}#sk-container-id-1 label.sk-toggleable__label-arrow:hover:before {color: black;}#sk-container-id-1 div.sk-estimator:hover label.sk-toggleable__label-arrow:before {color: black;}#sk-container-id-1 div.sk-toggleable__content {max-height: 0;max-width: 0;overflow: hidden;text-align: left;background-color: #f0f8ff;}#sk-container-id-1 div.sk-toggleable__content pre {margin: 0.2em;color: black;border-radius: 0.25em;background-color: #f0f8ff;}#sk-container-id-1 input.sk-toggleable__control:checked~div.sk-toggleable__content {max-height: 200px;max-width: 100%;overflow: auto;}#sk-container-id-1 input.sk-toggleable__control:checked~label.sk-toggleable__label-arrow:before {content: \"▾\";}#sk-container-id-1 div.sk-estimator input.sk-toggleable__control:checked~label.sk-toggleable__label {background-color: #d4ebff;}#sk-container-id-1 div.sk-label input.sk-toggleable__control:checked~label.sk-toggleable__label {background-color: #d4ebff;}#sk-container-id-1 input.sk-hidden--visually {border: 0;clip: rect(1px 1px 1px 1px);clip: rect(1px, 1px, 1px, 1px);height: 1px;margin: -1px;overflow: hidden;padding: 0;position: absolute;width: 1px;}#sk-container-id-1 div.sk-estimator {font-family: monospace;background-color: #f0f8ff;border: 1px dotted black;border-radius: 0.25em;box-sizing: border-box;margin-bottom: 0.5em;}#sk-container-id-1 div.sk-estimator:hover {background-color: #d4ebff;}#sk-container-id-1 div.sk-parallel-item::after {content: \"\";width: 100%;border-bottom: 1px solid gray;flex-grow: 1;}#sk-container-id-1 div.sk-label:hover label.sk-toggleable__label {background-color: #d4ebff;}#sk-container-id-1 div.sk-serial::before {content: \"\";position: absolute;border-left: 1px solid gray;box-sizing: border-box;top: 0;bottom: 0;left: 50%;z-index: 0;}#sk-container-id-1 div.sk-serial {display: flex;flex-direction: column;align-items: center;background-color: white;padding-right: 0.2em;padding-left: 0.2em;position: relative;}#sk-container-id-1 div.sk-item {position: relative;z-index: 1;}#sk-container-id-1 div.sk-parallel {display: flex;align-items: stretch;justify-content: center;background-color: white;position: relative;}#sk-container-id-1 div.sk-item::before, #sk-container-id-1 div.sk-parallel-item::before {content: \"\";position: absolute;border-left: 1px solid gray;box-sizing: border-box;top: 0;bottom: 0;left: 50%;z-index: -1;}#sk-container-id-1 div.sk-parallel-item {display: flex;flex-direction: column;z-index: 1;position: relative;background-color: white;}#sk-container-id-1 div.sk-parallel-item:first-child::after {align-self: flex-end;width: 50%;}#sk-container-id-1 div.sk-parallel-item:last-child::after {align-self: flex-start;width: 50%;}#sk-container-id-1 div.sk-parallel-item:only-child::after {width: 0;}#sk-container-id-1 div.sk-dashed-wrapped {border: 1px dashed gray;margin: 0 0.4em 0.5em 0.4em;box-sizing: border-box;padding-bottom: 0.4em;background-color: white;}#sk-container-id-1 div.sk-label label {font-family: monospace;font-weight: bold;display: inline-block;line-height: 1.2em;}#sk-container-id-1 div.sk-label-container {text-align: center;}#sk-container-id-1 div.sk-container {/* jupyter's `normalize.less` sets `[hidden] { display: none; }` but bootstrap.min.css set `[hidden] { display: none !important; }` so we also need the `!important` here to be able to override the default hidden behavior on the sphinx rendered scikit-learn.org. See: https://github.com/scikit-learn/scikit-learn/issues/21755 */display: inline-block !important;position: relative;}#sk-container-id-1 div.sk-text-repr-fallback {display: none;}</style><div id=\"sk-container-id-1\" class=\"sk-top-container\"><div class=\"sk-text-repr-fallback\"><pre>MultinomialNB()</pre><b>In a Jupyter environment, please rerun this cell to show the HTML representation or trust the notebook. <br />On GitHub, the HTML representation is unable to render, please try loading this page with nbviewer.org.</b></div><div class=\"sk-container\" hidden><div class=\"sk-item\"><div class=\"sk-estimator sk-toggleable\"><input class=\"sk-toggleable__control sk-hidden--visually\" id=\"sk-estimator-id-1\" type=\"checkbox\" checked><label for=\"sk-estimator-id-1\" class=\"sk-toggleable__label sk-toggleable__label-arrow\">MultinomialNB</label><div class=\"sk-toggleable__content\"><pre>MultinomialNB()</pre></div></div></div></div></div>"
            ]
          },
          "metadata": {},
          "execution_count": 10
        }
      ]
    },
    {
      "cell_type": "markdown",
      "source": [
        "Setelah data siap untuk ditraining, proses pemodelan pun dimulai, disini kami menggunakan Multinomial (Naive-Bayes)."
      ],
      "metadata": {
        "id": "P6WvXDeS2QIL"
      }
    },
    {
      "cell_type": "code",
      "source": [
        "# Input test\n",
        "input = \"Cristiano Ronaldo came off the bench to earn Manchester United a hard-fought 2-1 victory at Everton in the Premier League on Sunday, taking his career goal tally to 700 in the process. Just as United did last weekend in their derby mauling at the hands of local rivals Manchester City, they again found themselves behind early on at Goodison Park after Alex Iwobi curled a sublime strike into the net from 20 metres.\"\n",
        "\n",
        "# Preprocess input test\n",
        "input_processed = ' '.join(preprocess(input))\n",
        "\n",
        "input_bow = vectorizer.transform([input_processed]).toarray()\n",
        "\n",
        "# Prediksi kelas\n",
        "kelas = classifier.predict(input_bow)[0]\n",
        "print(\"Hasil prediksi:\", kelas)"
      ],
      "metadata": {
        "colab": {
          "base_uri": "https://localhost:8080/"
        },
        "id": "zhyGAZBQ4npW",
        "outputId": "057504e0-4dd2-458e-dd80-c3e153c63f60"
      },
      "execution_count": null,
      "outputs": [
        {
          "output_type": "stream",
          "name": "stdout",
          "text": [
            "Hasil prediksi: sports\n"
          ]
        }
      ]
    },
    {
      "cell_type": "markdown",
      "source": [
        "Setelah itu seperti yang kita lihat diatas, kita melakukan test model terhadap input, dan input akan diprediksi termasuk kelas apakah dia.\n",
        "\n",
        "Terlihat pada output bahwa input masuk kedalam kelas sports."
      ],
      "metadata": {
        "id": "Tz7V9aoP2kfy"
      }
    }
  ]
}